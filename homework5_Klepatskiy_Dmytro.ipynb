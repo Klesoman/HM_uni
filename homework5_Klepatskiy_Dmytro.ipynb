{
 "cells": [
  {
   "cell_type": "markdown",
   "metadata": {},
   "source": [
    "Імпортуємо потрібні бібліотеки: pandas i numpy"
   ]
  },
  {
   "cell_type": "code",
   "execution_count": 8,
   "metadata": {},
   "outputs": [],
   "source": [
    "import pandas as pd\n",
    "import numpy as np\n"
   ]
  },
  {
   "cell_type": "code",
   "execution_count": 9,
   "metadata": {},
   "outputs": [
    {
     "data": {
      "text/html": [
       "<div>\n",
       "<style scoped>\n",
       "    .dataframe tbody tr th:only-of-type {\n",
       "        vertical-align: middle;\n",
       "    }\n",
       "\n",
       "    .dataframe tbody tr th {\n",
       "        vertical-align: top;\n",
       "    }\n",
       "\n",
       "    .dataframe thead th {\n",
       "        text-align: right;\n",
       "    }\n",
       "</style>\n",
       "<table border=\"1\" class=\"dataframe\">\n",
       "  <thead>\n",
       "    <tr style=\"text-align: right;\">\n",
       "      <th></th>\n",
       "      <th>Battery</th>\n",
       "      <th>Car_name</th>\n",
       "      <th>Car_name_link</th>\n",
       "      <th>Efficiency</th>\n",
       "      <th>Fast_charge</th>\n",
       "      <th>Price.DE.</th>\n",
       "      <th>Range</th>\n",
       "      <th>Top_speed</th>\n",
       "      <th>acceleration..0.100.</th>\n",
       "    </tr>\n",
       "  </thead>\n",
       "  <tbody>\n",
       "    <tr>\n",
       "      <th>0</th>\n",
       "      <td>75.0</td>\n",
       "      <td>Tesla Model Y Long Range Dual Motor</td>\n",
       "      <td>https://ev-database.org/car/1619/Tesla-Model-Y...</td>\n",
       "      <td>172</td>\n",
       "      <td>670.0</td>\n",
       "      <td>59017.0</td>\n",
       "      <td>435</td>\n",
       "      <td>217</td>\n",
       "      <td>5.0</td>\n",
       "    </tr>\n",
       "    <tr>\n",
       "      <th>1</th>\n",
       "      <td>57.5</td>\n",
       "      <td>Tesla Model 3</td>\n",
       "      <td>https://ev-database.org/car/1991/Tesla-Model-3</td>\n",
       "      <td>137</td>\n",
       "      <td>700.0</td>\n",
       "      <td>46220.0</td>\n",
       "      <td>420</td>\n",
       "      <td>201</td>\n",
       "      <td>6.1</td>\n",
       "    </tr>\n",
       "    <tr>\n",
       "      <th>2</th>\n",
       "      <td>60.5</td>\n",
       "      <td>BYD ATTO 3</td>\n",
       "      <td>https://ev-database.org/car/1782/BYD-ATTO-3</td>\n",
       "      <td>183</td>\n",
       "      <td>370.0</td>\n",
       "      <td>44625.0</td>\n",
       "      <td>330</td>\n",
       "      <td>160</td>\n",
       "      <td>7.3</td>\n",
       "    </tr>\n",
       "    <tr>\n",
       "      <th>3</th>\n",
       "      <td>61.7</td>\n",
       "      <td>MG MG4 Electric 64 kWh</td>\n",
       "      <td>https://ev-database.org/car/1708/MG-MG4-Electr...</td>\n",
       "      <td>171</td>\n",
       "      <td>630.0</td>\n",
       "      <td>39990.0</td>\n",
       "      <td>360</td>\n",
       "      <td>160</td>\n",
       "      <td>7.9</td>\n",
       "    </tr>\n",
       "    <tr>\n",
       "      <th>4</th>\n",
       "      <td>75.0</td>\n",
       "      <td>Tesla Model 3 Long Range Dual Motor</td>\n",
       "      <td>https://ev-database.org/car/1992/Tesla-Model-3...</td>\n",
       "      <td>149</td>\n",
       "      <td>780.0</td>\n",
       "      <td>55220.0</td>\n",
       "      <td>505</td>\n",
       "      <td>201</td>\n",
       "      <td>4.4</td>\n",
       "    </tr>\n",
       "    <tr>\n",
       "      <th>...</th>\n",
       "      <td>...</td>\n",
       "      <td>...</td>\n",
       "      <td>...</td>\n",
       "      <td>...</td>\n",
       "      <td>...</td>\n",
       "      <td>...</td>\n",
       "      <td>...</td>\n",
       "      <td>...</td>\n",
       "      <td>...</td>\n",
       "    </tr>\n",
       "    <tr>\n",
       "      <th>355</th>\n",
       "      <td>46.3</td>\n",
       "      <td>Citroen e-Jumpy Combi XL 50 kWh</td>\n",
       "      <td>https://ev-database.org/car/1596/Citroen-e-Jum...</td>\n",
       "      <td>257</td>\n",
       "      <td>290.0</td>\n",
       "      <td>52730.0</td>\n",
       "      <td>180</td>\n",
       "      <td>130</td>\n",
       "      <td>12.1</td>\n",
       "    </tr>\n",
       "    <tr>\n",
       "      <th>356</th>\n",
       "      <td>46.3</td>\n",
       "      <td>Fiat E-Ulysse L2 50 kWh</td>\n",
       "      <td>https://ev-database.org/car/1721/Fiat-E-Ulysse...</td>\n",
       "      <td>250</td>\n",
       "      <td>290.0</td>\n",
       "      <td>55990.0</td>\n",
       "      <td>185</td>\n",
       "      <td>130</td>\n",
       "      <td>12.1</td>\n",
       "    </tr>\n",
       "    <tr>\n",
       "      <th>357</th>\n",
       "      <td>46.3</td>\n",
       "      <td>Opel Vivaro-e Combi L 50 kWh</td>\n",
       "      <td>https://ev-database.org/car/1601/Opel-Vivaro-e...</td>\n",
       "      <td>257</td>\n",
       "      <td>290.0</td>\n",
       "      <td>51825.0</td>\n",
       "      <td>180</td>\n",
       "      <td>130</td>\n",
       "      <td>12.1</td>\n",
       "    </tr>\n",
       "    <tr>\n",
       "      <th>358</th>\n",
       "      <td>68.0</td>\n",
       "      <td>Opel Zafira-e Life M 75 kWh</td>\n",
       "      <td>https://ev-database.org/car/1348/Opel-Zafira-e...</td>\n",
       "      <td>257</td>\n",
       "      <td>290.0</td>\n",
       "      <td>69250.0</td>\n",
       "      <td>265</td>\n",
       "      <td>130</td>\n",
       "      <td>13.3</td>\n",
       "    </tr>\n",
       "    <tr>\n",
       "      <th>359</th>\n",
       "      <td>46.3</td>\n",
       "      <td>Fiat E-Ulysse L3 50 kWh</td>\n",
       "      <td>https://ev-database.org/car/1723/Fiat-E-Ulysse...</td>\n",
       "      <td>257</td>\n",
       "      <td>290.0</td>\n",
       "      <td>56990.0</td>\n",
       "      <td>180</td>\n",
       "      <td>130</td>\n",
       "      <td>12.1</td>\n",
       "    </tr>\n",
       "  </tbody>\n",
       "</table>\n",
       "<p>360 rows × 9 columns</p>\n",
       "</div>"
      ],
      "text/plain": [
       "     Battery                             Car_name  \\\n",
       "0       75.0  Tesla Model Y Long Range Dual Motor   \n",
       "1       57.5                        Tesla Model 3   \n",
       "2       60.5                           BYD ATTO 3   \n",
       "3       61.7               MG MG4 Electric 64 kWh   \n",
       "4       75.0  Tesla Model 3 Long Range Dual Motor   \n",
       "..       ...                                  ...   \n",
       "355     46.3      Citroen e-Jumpy Combi XL 50 kWh   \n",
       "356     46.3              Fiat E-Ulysse L2 50 kWh   \n",
       "357     46.3         Opel Vivaro-e Combi L 50 kWh   \n",
       "358     68.0          Opel Zafira-e Life M 75 kWh   \n",
       "359     46.3              Fiat E-Ulysse L3 50 kWh   \n",
       "\n",
       "                                         Car_name_link  Efficiency  \\\n",
       "0    https://ev-database.org/car/1619/Tesla-Model-Y...         172   \n",
       "1       https://ev-database.org/car/1991/Tesla-Model-3         137   \n",
       "2          https://ev-database.org/car/1782/BYD-ATTO-3         183   \n",
       "3    https://ev-database.org/car/1708/MG-MG4-Electr...         171   \n",
       "4    https://ev-database.org/car/1992/Tesla-Model-3...         149   \n",
       "..                                                 ...         ...   \n",
       "355  https://ev-database.org/car/1596/Citroen-e-Jum...         257   \n",
       "356  https://ev-database.org/car/1721/Fiat-E-Ulysse...         250   \n",
       "357  https://ev-database.org/car/1601/Opel-Vivaro-e...         257   \n",
       "358  https://ev-database.org/car/1348/Opel-Zafira-e...         257   \n",
       "359  https://ev-database.org/car/1723/Fiat-E-Ulysse...         257   \n",
       "\n",
       "     Fast_charge  Price.DE.  Range  Top_speed  acceleration..0.100.  \n",
       "0          670.0    59017.0    435        217                   5.0  \n",
       "1          700.0    46220.0    420        201                   6.1  \n",
       "2          370.0    44625.0    330        160                   7.3  \n",
       "3          630.0    39990.0    360        160                   7.9  \n",
       "4          780.0    55220.0    505        201                   4.4  \n",
       "..           ...        ...    ...        ...                   ...  \n",
       "355        290.0    52730.0    180        130                  12.1  \n",
       "356        290.0    55990.0    185        130                  12.1  \n",
       "357        290.0    51825.0    180        130                  12.1  \n",
       "358        290.0    69250.0    265        130                  13.3  \n",
       "359        290.0    56990.0    180        130                  12.1  \n",
       "\n",
       "[360 rows x 9 columns]"
      ]
     },
     "execution_count": 9,
     "metadata": {},
     "output_type": "execute_result"
    }
   ],
   "source": [
    "df = pd.read_csv('EV_cars.csv')\n",
    "df\n"
   ]
  },
  {
   "cell_type": "markdown",
   "metadata": {},
   "source": [
    "#### Який найвищий показник Fast charge"
   ]
  },
  {
   "cell_type": "code",
   "execution_count": 12,
   "metadata": {},
   "outputs": [
    {
     "name": "stdout",
     "output_type": "stream",
     "text": [
      "Найвище значення Fast_charge: 1290.0\n"
     ]
    }
   ],
   "source": [
    "max_fast_charge = df['Fast_charge'].max()\n",
    "print(\"Найвище значення Fast_charge:\", max_fast_charge)"
   ]
  },
  {
   "cell_type": "markdown",
   "metadata": {},
   "source": [
    "#### Яка марка машини містить набільше батареї?"
   ]
  },
  {
   "cell_type": "code",
   "execution_count": 14,
   "metadata": {},
   "outputs": [
    {
     "name": "stdout",
     "output_type": "stream",
     "text": [
      "Модель автомобіля з найбільшим значенням Battery: VinFast VF 9 Extended Range\n"
     ]
    }
   ],
   "source": [
    "index_of_max_battery = df['Battery'].idxmax()\n",
    "model_with_max_battery = df.loc[index_of_max_battery, 'Car_name']\n",
    "\n",
    "print(\"Модель автомобіля з найбільшим значенням Battery:\", model_with_max_battery)"
   ]
  },
  {
   "cell_type": "markdown",
   "metadata": {},
   "source": [
    "Визначити найшвидшу машину"
   ]
  },
  {
   "cell_type": "code",
   "execution_count": 18,
   "metadata": {},
   "outputs": [
    {
     "name": "stdout",
     "output_type": "stream",
     "text": [
      "Марка автомобіля з найвищим значенням Top_speed: Maserati GranTurismo Folgore\n"
     ]
    }
   ],
   "source": [
    "brand_with_max_top_speed = df.loc[df['Top_speed'].idxmax(), 'Car_name']\n",
    "print(\"Марка автомобіля з найвищим значенням Top_speed:\", brand_with_max_top_speed)"
   ]
  },
  {
   "cell_type": "markdown",
   "metadata": {},
   "source": [
    "#### Яка марка машини зустрічається найчастіше у датасеті?"
   ]
  },
  {
   "cell_type": "code",
   "execution_count": 20,
   "metadata": {},
   "outputs": [
    {
     "name": "stdout",
     "output_type": "stream",
     "text": [
      "Марка автомобіля, яка зустрічається найчастіше: Mercedes EQB 300 4MATIC із даним показником 2\n"
     ]
    }
   ],
   "source": [
    "most_common_brand = df['Car_name'].value_counts().idxmax()\n",
    "count_of_occurrences = df['Car_name'].value_counts().max()\n",
    "print(f\"Марка автомобіля, яка зустрічається найчастіше: {most_common_brand} із даним показником {count_of_occurrences}\"  )"
   ]
  },
  {
   "cell_type": "markdown",
   "metadata": {},
   "source": [
    "#### Знайдіть електромобілі з  найнижчим співвідношенням запасу ходу до ціни?"
   ]
  },
  {
   "cell_type": "code",
   "execution_count": 21,
   "metadata": {},
   "outputs": [
    {
     "name": "stdout",
     "output_type": "stream",
     "text": [
      "Електромобілі з найнижчим співвідношенням запасу ходу до ціни:\n",
      "Марка: Renault Twingo Electric, Запас ходу: 135, Ціна: 28000.0 євро\n",
      "Марка: Fiat 500e Cabrio 24 kWh, Запас ходу: 135, Ціна: 35490.0 євро\n",
      "Марка: Fiat 500e Hatchback 24 kWh, Запас ходу: 135, Ціна: 30990.0 євро\n",
      "Марка: Fiat 500e 3+1 24 kWh, Запас ходу: 135, Ціна: nan євро\n",
      "Марка: e.Go e.wave X, Запас ходу: 150, Ціна: 24990.0 євро\n"
     ]
    }
   ],
   "source": [
    "sorted_df = df.sort_values(by='Range', ascending=True)\n",
    "lowest_range_to_price_ratio_cars = sorted_df.head(5)\n",
    "\n",
    "print(\"Електромобілі з найнижчим співвідношенням запасу ходу до ціни:\")\n",
    "for index, row in lowest_range_to_price_ratio_cars.iterrows():\n",
    "    print(f\"Марка: {row['Car_name']}, Запас ходу: {row['Range']}, Ціна: {row['Price.DE.']} євро\")\n"
   ]
  }
 ],
 "metadata": {
  "kernelspec": {
   "display_name": "Python 3",
   "language": "python",
   "name": "python3"
  },
  "language_info": {
   "codemirror_mode": {
    "name": "ipython",
    "version": 3
   },
   "file_extension": ".py",
   "mimetype": "text/x-python",
   "name": "python",
   "nbconvert_exporter": "python",
   "pygments_lexer": "ipython3",
   "version": "3.10.11"
  }
 },
 "nbformat": 4,
 "nbformat_minor": 2
}
